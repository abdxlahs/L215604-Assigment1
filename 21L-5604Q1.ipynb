import numpy as np
def check_input(arr):
    count=0
    np_array=np.array(arr)
    search=np.extract(1,arr)
    
    if(search==1):
      num_of_rows,num_of_column=np_array.shape
      for k in range(0, num_of_rows):
        arr=np.array(np_array[k,:])  
        for i in range(0, num_of_rows):    
         for j in range(i+1, num_of_column):    
          if(arr[i] == arr[j]):
            count+=1
      for k in range(0, num_of_column):
        arr=np.array(np_array[:,k])  
        for i in range(0, num_of_column):    
         for j in range(i+1, num_of_rows):    
          if(arr[i] == arr[j]):
            count+=1
      if(count==0):
         return True
      if(count>1):
         return False
    else:
        return False


   
test1 = [[1, 2, 3],
        [2, 3, 1],
        [3, 1, 2]]

test2 = [[1, 2, 3, 4],
        [2, 3, 1, 3],
        [3, 1, 2, 3],
        [4, 4, 4, 4]]

test3 = [['a', 'b', 'c'],
        ['b', 'c', 'a'],
        ['c', 'a', 'b']]
#check_input(test1)
print(check_input(test1)) # must return true
print(check_input(test2)) # must return false
print(check_input(test3)) # must return false 