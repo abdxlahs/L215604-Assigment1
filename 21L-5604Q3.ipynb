import numpy as np
import pandas as pd
import matplotlib.pyplot as mp

studentfile = pd.read_csv("StudentMarkSheet.csv")
nfile = studentfile.dropna(axis=0,how='any')
np_file=np.array(nfile)
subjects=np_file[:,1]
np_marks=np.array(np_file[:,3])

marks_bio=np_marks[subjects=='Biology']
marks_phy=np_marks[subjects=='Physics']
marks_pp=np_marks[subjects=='Philosophy']
marks_socio=np_marks[subjects=='Sociology']
marks_math=np_marks[subjects=='Mathematics']
marks_chem=np_marks[subjects=='Chemistry']

bio=np.mean(marks_bio)
math=np.mean(marks_math)
chem=np.mean(marks_chem)
phy=np.mean(marks_phy)
pp=np.mean(marks_pp)
socio=np.mean(marks_socio)

x_labels=["Bio","Chem","Phy","Phil","Soci","Mathe"]
y_labels=[bio,chem,phy,pp,socio,math]
mp.bar(x_labels,y_labels)
mp.show()