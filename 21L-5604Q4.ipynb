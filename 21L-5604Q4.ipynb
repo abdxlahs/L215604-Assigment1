#dependent variable: Tail length
#independent variable: Mass


import numpy as np
import pandas as pd
import matplotlib.pyplot as mp
from sklearn import linear_model

file = pd.read_csv("CatData.csv")
notnullfile = file.dropna(axis=0,how='any')


val=int(len(notnullfile)*0.8)


train = notnullfile[:val]
test = notnullfile[val:]

regression = linear_model.LinearRegression()

train_x=np.array(train[["Tail Length (cm)"]])
train_y=np.array(train[["Mass (kg)"]])

regression.fit(train_x,train_y)

slope=regression.coef_
intercept=regression.intercept_

print("slope : ",slope)
print("intercept : ",intercept)
x=train[["Tail Length (cm)"]]
y=(slope*(train[["Tail Length (cm)"]])+intercept)


mp.scatter(train["Tail Length (cm)"],train["Mass (kg)"],color='blue')
mp.plot(x,y,color="orange")
mp.xlabel("Tail Length")
mp.ylabel("Mass")
mp.show()