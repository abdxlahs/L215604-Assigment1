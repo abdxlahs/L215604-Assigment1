import pandas as pd
import numpy as np

Studentdata_set =pd.read_csv("StudentMarkSheet.csv")
Studentdata_set.info()
num_of_row,num_of_column= Studentdata_set.shape
np_stude=np.array(Studentdata_set)
np_student_name=np_stude[:,0]
np_marks=np_stude[:,3]
np_exam_name=np_stude[:,1]
print(num_of_row)
num_of_row,num_of_column= Studentdata_set.shape
print(num_of_row)
np_row=np_student_name[np_student_name=="James Walker"]
exam=np_exam_name[np_student_name=="James Walker"]
marks=np_marks[np_student_name=="James Walker"]
count=len(np_row)
for i in range(count):
    print(np_row[i])
    print(exam[i])
    print(marks[i])
    
